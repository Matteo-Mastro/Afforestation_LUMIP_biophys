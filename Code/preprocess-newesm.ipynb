{
 "cells": [
  {
   "cell_type": "markdown",
   "id": "1d13591d-9032-48c6-afca-86910e22dc8d",
   "metadata": {},
   "source": [
    "## Browse DKRZ catalog on Levante HPC system"
   ]
  },
  {
   "cell_type": "markdown",
   "id": "bb65f5c4-2962-45ba-a349-5fff24541bab",
   "metadata": {},
   "source": [
    "Search for LUMIP simulations and available models"
   ]
  },
  {
   "cell_type": "code",
   "execution_count": 3,
   "id": "e163a7da-684c-4d5d-8209-427bdbdddf25",
   "metadata": {
    "tags": []
   },
   "outputs": [],
   "source": [
    "# import intake\n",
    "import os\n",
    "import glob\n",
    "import netCDF4 as nc\n",
    "\n",
    "import matplotlib as mpl\n",
    "import matplotlib.colors as colors\n",
    "import matplotlib.pyplot as plt\n",
    "import matplotlib.gridspec as gridspec\n",
    "import cartopy as cart\n",
    "import cartopy.crs as ccrs\n",
    "import cartopy.feature as cfeature\n",
    "import cartopy.mpl.ticker as cticker\n",
    "from cartopy.util import add_cyclic_point\n",
    "\n",
    "import numpy as np\n",
    "import xarray as xr\n",
    "import cftime\n",
    "import pandas as pd\n",
    "\n",
    "# Regridding\n",
    "import xesmf as xe\n"
   ]
  },
  {
   "cell_type": "code",
   "execution_count": null,
   "id": "d90ef73c-d08c-47a9-a953-7029b1fb9a36",
   "metadata": {
    "tags": []
   },
   "outputs": [],
   "source": [
    "# # Multiprocessing\n",
    "# import multiprocessing\n",
    "# from dask.distributed import Client, progress, wait # Libaray to orchestrate distributed resources\n",
    "# from dask_jobqueue import SLURMCluster\n",
    "\n",
    "# ncpu = multiprocessing.cpu_count()\n",
    "# processes = False\n",
    "# nworker = 1\n",
    "# threads = ncpu // nworker\n",
    "# print(\n",
    "#     f\"Number of CPUs: {ncpu}, number of threads: {threads}, number of workers: {nworker}, processes: {processes}\",\n",
    "# )\n",
    "# client = Client(\n",
    "#     processes=processes,\n",
    "#     threads_per_worker=threads,\n",
    "#     n_workers=nworker,\n",
    "#     memory_limit=\"16GB\",\n",
    "# )\n",
    "# client"
   ]
  },
  {
   "cell_type": "code",
   "execution_count": null,
   "id": "7312894c-b24b-4dd4-b4dd-713d23ec9d11",
   "metadata": {
    "tags": []
   },
   "outputs": [],
   "source": [
    "data_path = \"G:/My Drive/MPIM/data/\"\n",
    "data_path = \"G:/My Drive/MPIM/data/\""
   ]
  },
  {
   "cell_type": "markdown",
   "id": "9c4d3f27-7db0-4511-9672-0eac5ab5bbaf",
   "metadata": {},
   "source": [
    "# Functions"
   ]
  },
  {
   "cell_type": "code",
   "execution_count": 4,
   "id": "6de88906-34ef-4296-bf35-34d9dcb9f095",
   "metadata": {
    "tags": []
   },
   "outputs": [],
   "source": [
    "def xr_fix_time(xr_in, date_start, date_end):\n",
    "    \n",
    "    if xr_in['time'].dt.calendar == 'noleap' or xr_in['time'].dt.calendar == '360_day':\n",
    "        xr_in = xr_in.convert_calendar(calendar = 'gregorian', align_on = 'date')\n",
    "        \n",
    "    else: None\n",
    "    \n",
    "    time = pd.date_range(start=date_start, end=date_end, freq='M').to_numpy(dtype='datetime64[ns]')\n",
    "    xr_out = xr_in.assign_coords(time = time)\n",
    "    \n",
    "    return xr_out"
   ]
  },
  {
   "cell_type": "code",
   "execution_count": 6,
   "id": "bfd7094c-cb82-4636-aad5-5f822ab4f78b",
   "metadata": {
    "tags": []
   },
   "outputs": [],
   "source": [
    "def xr_clean(xr_in, dims):\n",
    "    data = xr_in.copy()\n",
    "    for i,d in enumerate(dims):\n",
    "        if d in data.coords and d in data.dims:\n",
    "            data = data.drop(d)\n",
    "            data = data.isel({d : 0})\n",
    "        if d in data.coords:\n",
    "            data = data.drop(d)\n",
    "        if d in data.dims and d not in data.coords:\n",
    "            data = data.isel({d : 0})\n",
    "        if data.attrs == {}:\n",
    "            None\n",
    "        else:\n",
    "            if d in data.data_vars:\n",
    "                data = data.drop_vars(d)\n",
    "    xr_out = data\n",
    "    return xr_out"
   ]
  },
  {
   "cell_type": "code",
   "execution_count": 7,
   "id": "17d059c3-f1d5-4c44-b3af-50f7b82a6986",
   "metadata": {
    "tags": []
   },
   "outputs": [],
   "source": [
    "def lon180(ds):\n",
    "    ds.coords['lon'] = (ds.coords['lon'] + 180) % 360 - 180\n",
    "    ds = ds.sortby(ds.lon)\n",
    "    return ds"
   ]
  },
  {
   "cell_type": "code",
   "execution_count": 5,
   "id": "538acbdb-1ace-4752-aae7-d7d487ad3003",
   "metadata": {
    "tags": []
   },
   "outputs": [],
   "source": [
    "import xesmf as xe\n",
    "\n",
    "def xr_regrid(data, method, lon_bnds, lat_bnds, xres, yres):\n",
    "    # Regrid XARRAY using xESMF library (https://xesmf.readthedocs.io/en/stable/index.html)\n",
    "    # data: input data\n",
    "    # method: \"bilinear\", \"conservative\", \"conservative_normed\", \"patch\", \"nearest_s2d\", \"nearest_d2s\"\n",
    "    \n",
    "    lonmin = lon_bnds[0]; lonmax = lon_bnds[1]\n",
    "    latmin = lat_bnds[0]; latmax = lat_bnds[1]\n",
    "    xr_out = xe.util.cf_grid_2d(lonmin, lonmax, xres, latmin, latmax, yres)\n",
    "   \n",
    "    regrid = xe.Regridder(data, xr_out, method)\n",
    "\n",
    "    data_regrid = regrid(data, keep_attrs=True)\n",
    "\n",
    "    return data_regrid"
   ]
  },
  {
   "cell_type": "markdown",
   "id": "101b9629-3d30-4fa9-89df-3ae8c8855b2a",
   "metadata": {},
   "source": [
    "# PFT data"
   ]
  },
  {
   "cell_type": "code",
   "execution_count": 8,
   "id": "8dc469c6-be1f-4ee4-ad6a-4b1fb1d58f2a",
   "metadata": {
    "tags": []
   },
   "outputs": [],
   "source": [
    "models = [\"ACCESS-ESM1-5\", \"CMCC-ESM2\", \"IPSL-CM6A-LR\"]\n",
    "\n",
    "variables = [[\"treeFrac\", \"treeFracBdlDcd\", \"treeFracBdlEvg\", \"treeFracNdlDcd\",\"treeFracNdlEvg\", \"grassFrac\", \"grassFracC3\", \"grassFracC4\", \"cropFrac\", \"cropFracC3\"],\n",
    "             [\"treeFrac\", \"treeFracBdlDcd\", \"treeFracBdlEvg\", \"treeFracNdlDcd\",\"treeFracNdlEvg\", \"grassFrac\", \"grassFracC3\", \"grassFracC4\", \"cropFrac\", \"cropFracC3\"],\n",
    "             [\"treeFrac\", \"treeFracBdlDcd\", \"treeFracBdlEvg\", \"treeFracNdlDcd\",\"treeFracNdlEvg\", \"grassFrac\", \"grassFracC3\", \"grassFracC4\", \"cropFrac\", \"cropFracC3\", \"cropFracC4\"]]\n",
    "             \n",
    "members = [[\"r1i1p1f1\"],\n",
    "           [\"r1i1p1f1\"],\n",
    "           [\"r1i1p1f1\"]]\n",
    "\n",
    "# IPSL has also cropFracC4"
   ]
  },
  {
   "cell_type": "code",
   "execution_count": 9,
   "id": "855d2df8-4af6-4654-9083-2c606d64755e",
   "metadata": {},
   "outputs": [],
   "source": [
    "data_path = '/home/m/m301093/data/new_models/pft'             \n",
    "\n",
    "scenario = 'ssp126'\n",
    "xr_aff_esm_pft = []\n",
    "for i,mm in enumerate(models):\n",
    "    xr_aff = []\n",
    "    for v,vv in enumerate(variables[i]): \n",
    "        filepath = glob.glob(os.path.join(data_path+'/'+ mm + '/' + vv + '_*_' + mm + \"_\" + scenario + '_*'))[0]                                       ## List of files sorted by name\n",
    "        content = xr.open_dataset(filepath, drop_variables=[\"time_bnds\",\"lon_bnds\",\"lat_bnds\"],engine = 'netcdf4',chunks={\"time\": 240})\n",
    "        xr_aff.append(content)\n",
    "    xr_aff_esm_pft.append(xr.merge(xr_aff, compat = \"override\"))\n",
    "\n",
    "\n",
    "scenario = 'ssp370'\n",
    "xr_ctl_esm_pft = []\n",
    "for i,mm in enumerate(models):\n",
    "    xr_ctl = []\n",
    "    for v,vv in enumerate(variables[i]): \n",
    "        filepath = glob.glob(os.path.join(data_path+'/'+ mm + '/' + vv + '_*_' + mm + \"_\" + scenario + '_*'))[0]                                       ## List of files sorted by name\n",
    "        content = xr.open_dataset(filepath, drop_variables=[\"time_bnds\",\"lon_bnds\",\"lat_bnds\"],engine = 'netcdf4',chunks={\"time\": 240})\n",
    "        xr_ctl.append(content)\n",
    "    xr_ctl_esm_pft.append(xr.merge(xr_ctl, compat = \"override\"))\n"
   ]
  },
  {
   "cell_type": "markdown",
   "id": "dabc59c1-fcf8-4f98-86d7-4f5b1d6fd854",
   "metadata": {},
   "source": [
    "Preprocessing"
   ]
  },
  {
   "cell_type": "code",
   "execution_count": 10,
   "id": "d797d8f4-9f28-4c48-8692-e08d61ea25b8",
   "metadata": {
    "tags": []
   },
   "outputs": [],
   "source": [
    "import dask\n",
    "dask.config.set({\"array.slicing.split_large_chunks\": False})\n",
    "\n",
    "for i,item in enumerate(models):\n",
    "    xr_aff_esm_pft[i] = xr_aff_esm_pft[i].sel(lat=slice(-60,90))\n",
    "    xr_ctl_esm_pft[i] = xr_ctl_esm_pft[i].sel(lat=slice(-60,90))\n",
    "\n",
    "    xr_aff_esm_pft[i] = xr_clean(xr_aff_esm_pft[i], ['dcpp_init_year', 'member_id', 'lon_bnds', 'lat_bnds', 'time_bnds', 'bnds'])\n",
    "    xr_ctl_esm_pft[i] = xr_clean(xr_ctl_esm_pft[i], ['dcpp_init_year', 'member_id', 'lon_bnds', 'lat_bnds', 'time_bnds', 'bnds'])\n",
    "\n",
    "    xr_aff_esm_pft[i] = lon180(xr_aff_esm_pft[i])\n",
    "    xr_ctl_esm_pft[i] = lon180(xr_ctl_esm_pft[i])\n",
    "\n",
    "    xr_aff_esm_pft[i] = xr_fix_time(xr_aff_esm_pft[i],\"2015-01\",\"2101-01\")\n",
    "    xr_ctl_esm_pft[i] = xr_fix_time(xr_ctl_esm_pft[i],\"2015-01\",\"2101-01\")"
   ]
  },
  {
   "cell_type": "markdown",
   "id": "4f1bdb63-a918-43c6-bb95-995df99cf9c0",
   "metadata": {},
   "source": [
    "Save data"
   ]
  },
  {
   "cell_type": "code",
   "execution_count": 13,
   "id": "68eb5ea8-dde1-41c4-bbe2-d04037b3c6d7",
   "metadata": {
    "tags": []
   },
   "outputs": [],
   "source": [
    "for i,mm in enumerate(models):\n",
    "    xr_aff_esm_pft[i].to_netcdf(out_path + \"/xr_ssp370_\"+mm+\"_pft.nc\")\n",
    "    xr_ctl_esm_pft[i].to_netcdf(out_path + \"/xr_ssp126Lu_\"+mm+\"_pft.nc\")\n"
   ]
  },
  {
   "cell_type": "markdown",
   "id": "e7e1b2d6-ca60-4ef3-ba55-cf64279c4287",
   "metadata": {},
   "source": [
    "Check saved data"
   ]
  },
  {
   "cell_type": "code",
   "execution_count": 17,
   "id": "c87450ef-121c-4d7c-8a48-52bffcdad9cf",
   "metadata": {
    "tags": []
   },
   "outputs": [],
   "source": [
    "import glob\n",
    "import netCDF4\n",
    "\n",
    "scenario = 'ssp126Lu'\n",
    "xr_aff_esm_pft = []\n",
    "for i,mm in enumerate(models):\n",
    "    xr_aff = []\n",
    "    for v,vv in enumerate(variables[i]): \n",
    "        filepath = glob.glob(os.path.join(out_path + '/' + 'xr_' + scenario + \"_\" + mm + '_pft.nc'))[0]                                       ## List of files sorted by name\n",
    "        content = xr.open_dataset(filepath, drop_variables=[\"time_bnds\",\"lon_bnds\",\"lat_bnds\"],engine = 'netcdf4',chunks={\"time\": 240})\n",
    "        xr_aff.append(content)\n",
    "    xr_aff_esm_pft.append(xr.merge(xr_aff, compat = \"override\"))\n",
    "\n",
    "\n",
    "scenario = 'ssp370'\n",
    "xr_ctl_esm_pft = []\n",
    "for i,mm in enumerate(models):\n",
    "    xr_ctl = []\n",
    "    for v,vv in enumerate(variables[i]): \n",
    "        filepath = glob.glob(os.path.join(out_path + '/' + 'xr_' + scenario + \"_\" + mm + '_pft.nc'))[0]                                       ## List of files sorted by name\n",
    "        content = xr.open_dataset(filepath, drop_variables=[\"time_bnds\",\"lon_bnds\",\"lat_bnds\"],engine = 'netcdf4',chunks={\"time\": 240})\n",
    "        xr_ctl.append(content)\n",
    "    xr_ctl_esm_pft.append(xr.merge(xr_ctl, compat = \"override\"))\n"
   ]
  },
  {
   "cell_type": "markdown",
   "id": "32e515d9-ae69-4450-80a3-bd61339f2b65",
   "metadata": {},
   "source": [
    "## Climate data"
   ]
  },
  {
   "cell_type": "code",
   "execution_count": null,
   "id": "22b65128-1a5f-41f7-9ab5-7e6200ccadce",
   "metadata": {},
   "outputs": [],
   "source": [
    "models = [\"ACCESS-ESM1-5\", \"CMCC-ESM2\", \"IPSL-CM6A-LR\"]\n",
    "\n",
    "variables = [[\"tas\", \"ts\", \"pr\", \"rlds\", \"rsds\", \"rsus\", \"hfls\", \"hfss\", \"huss\", \"ps\"],\n",
    "             [\"tas\", \"ts\", \"pr\", \"rlds\", \"rsds\", \"rsus\", \"hfls\", \"hfss\", \"huss\", \"ps\"],\n",
    "             [\"tas\", \"ts\", \"pr\", \"rlds\", \"rsds\", \"rsus\", \"hfls\", \"hfss\", \"huss\", \"ps\"]]\n",
    "             \n",
    "members = [[\"r1i1p1f1\"],\n",
    "           [\"r1i1p1f1\"],\n",
    "           [\"r1i1p1f1\"]]\n",
    "\n",
    "# IPSL has also cropFracC4"
   ]
  },
  {
   "cell_type": "code",
   "execution_count": null,
   "id": "c296ef93",
   "metadata": {},
   "outputs": [],
   "source": [
    "import glob\n",
    "import netCDF4\n",
    "\n",
    "data_path = '/home/m/m301093/data/new_models/climate'             \n",
    "\n",
    "scenario = 'ssp370-ssp126Lu'\n",
    "xr_aff_esm_clim = []\n",
    "for i,mm in enumerate(models):\n",
    "    xr_aff = []\n",
    "    for v,vv in enumerate(variables[i]): \n",
    "        filepath = glob.glob(os.path.join(data_path+'/'+ mm + '/' + vv + '_*_' + mm + \"_\" + scenario + '_*'))[0]                                       ## List of files sorted by name\n",
    "        content = xr.open_dataset(filepath, drop_variables=[\"time_bnds\",\"lon_bnds\",\"lat_bnds\"],engine = 'netcdf4',chunks={\"time\": 240})\n",
    "        xr_aff.append(content)\n",
    "    xr_aff_esm_clim.append(xr.merge(xr_aff, compat = \"override\"))\n",
    "\n",
    "\n",
    "scenario = 'ssp370'\n",
    "xr_ctl_esm_clim = []\n",
    "for i,mm in enumerate(models):\n",
    "    xr_ctl = []\n",
    "    for v,vv in enumerate(variables[i]): \n",
    "        filepath = glob.glob(os.path.join(data_path+'/'+ mm + '/' + vv + '_*_' + mm + \"_\" + scenario + '_*'))[0]                                       ## List of files sorted by name\n",
    "        content = xr.open_dataset(filepath, drop_variables=[\"time_bnds\",\"lon_bnds\",\"lat_bnds\"],engine = 'netcdf4',chunks={\"time\": 240})\n",
    "        xr_ctl.append(content)\n",
    "    xr_ctl_esm_clim.append(xr.merge(xr_ctl, compat = \"override\"))\n",
    "\n",
    "\n",
    "scenario = 'historical'\n",
    "xr_hist_esm_clim = []\n",
    "for i,mm in enumerate(models):\n",
    "    xr_ctl = []\n",
    "    for v,vv in enumerate(variables[i]): \n",
    "        filepath = glob.glob(os.path.join(data_path+'/'+ mm + '/' + vv + '_*_' + mm + \"_\" + scenario + '_*'))[0]                                       ## List of files sorted by name\n",
    "        content = xr.open_dataset(filepath, drop_variables=[\"time_bnds\",\"lon_bnds\",\"lat_bnds\"],engine = 'netcdf4',chunks={\"time\": 240})\n",
    "        xr_ctl.append(content)\n",
    "    xr_hist_esm_clim.append(xr.merge(xr_ctl, compat = \"override\"))"
   ]
  },
  {
   "cell_type": "code",
   "execution_count": null,
   "id": "896c9377-34bd-477f-9b66-1b7cecc8fca6",
   "metadata": {
    "tags": []
   },
   "outputs": [],
   "source": [
    "for i,item in enumerate(models):\n",
    "    xr_aff_esm_clim[i] = xr_aff_esm_clim[i].sel(lat=slice(-60,90))\n",
    "    xr_ctl_esm_clim[i] = xr_ctl_esm_clim[i].sel(lat=slice(-60,90))\n",
    "    xr_hist_esm_clim[i] = xr_hist_esm_clim[i].sel(lat=slice(-60,90))\n",
    "    \n",
    "    xr_aff_esm_clim[i] = xr_clean(xr_aff_esm_clim[i], ['dcpp_init_year', 'member_id', 'lon_bnds', 'lat_bnds', 'time_bnds', 'bnds'])\n",
    "    xr_ctl_esm_clim[i] = xr_clean(xr_ctl_esm_clim[i], ['dcpp_init_year', 'member_id', 'lon_bnds', 'lat_bnds', 'time_bnds', 'bnds'])\n",
    "    xr_hist_esm_clim[i] = xr_clean(xr_hist_esm_clim[i], ['dcpp_init_year', 'member_id', 'lon_bnds', 'lat_bnds', 'time_bnds', 'bnds'])\n",
    "\n",
    "    xr_aff_esm_clim[i] = lon180(xr_aff_esm_clim[i])\n",
    "    xr_ctl_esm_clim[i] = lon180(xr_ctl_esm_clim[i])\n",
    "    xr_hist_esm_clim[i] = lon180(xr_hist_esm_clim[i])\n",
    "\n",
    "    xr_aff_esm_clim[i] = xr_fix_time(xr_aff_esm_clim[i],\"2015-01\",\"2101-01\")\n",
    "    xr_ctl_esm_clim[i] = xr_fix_time(xr_ctl_esm_clim[i],\"2015-01\",\"2101-01\")\n",
    "    xr_hist_esm_clim[i] = xr_fix_time(xr_hist_esm_clim[i],\"2015-01\",\"2101-01\")    "
   ]
  },
  {
   "cell_type": "code",
   "execution_count": null,
   "id": "486a9a84-4236-4fdf-b739-92da1ec0a596",
   "metadata": {
    "tags": []
   },
   "outputs": [],
   "source": [
    "for i,mm in enumerate(models):\n",
    "    xr_ctl_esm[i].to_netcdf(out_path + \"/xr_ssp370_\"+mm+\".nc\")\n",
    "    xr_aff_esm[i].to_netcdf(out_path + \"/xr_ssp126Lu_\"+mm+\".nc\")\n",
    "    xr_hist_esm[i].to_netcdf(out_path + \"/xr_hist_\"+mm+\".nc\")"
   ]
  }
 ],
 "metadata": {
  "kernelspec": {
   "display_name": "geo_clim",
   "language": "python",
   "name": "python3"
  },
  "language_info": {
   "codemirror_mode": {
    "name": "ipython",
    "version": 3
   },
   "file_extension": ".py",
   "mimetype": "text/x-python",
   "name": "python",
   "nbconvert_exporter": "python",
   "pygments_lexer": "ipython3",
   "version": "3.8.15"
  },
  "toc-autonumbering": false,
  "toc-showmarkdowntxt": false,
  "toc-showtags": false
 },
 "nbformat": 4,
 "nbformat_minor": 5
}

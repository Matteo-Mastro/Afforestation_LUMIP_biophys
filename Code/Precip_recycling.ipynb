{
 "cells": [
  {
   "cell_type": "markdown",
   "metadata": {},
   "source": [
    "# Compute the Budyko precipitation recycling ratio"
   ]
  },
  {
   "cell_type": "code",
   "execution_count": 63,
   "metadata": {},
   "outputs": [],
   "source": [
    "import os\n",
    "import glob\n",
    "import netCDF4 as nc\n",
    "\n",
    "import matplotlib as mpl\n",
    "import matplotlib.colors as colors\n",
    "import matplotlib.pyplot as plt\n",
    "import matplotlib.gridspec as gridspec\n",
    "from matplotlib import cm\n",
    "import cartopy as cart\n",
    "import cartopy.crs as ccrs\n",
    "import cartopy.feature as cfeature\n",
    "import cartopy.mpl.ticker as cticker\n",
    "from cartopy.util import add_cyclic_point\n",
    "import seaborn as sns\n",
    "\n",
    "import math\n",
    "import numpy as np\n",
    "import xarray as xr\n",
    "import cftime\n",
    "import pandas as pd\n",
    "\n",
    "# Regridding\n",
    "# import xesmf as xe\n"
   ]
  },
  {
   "cell_type": "code",
   "execution_count": 64,
   "metadata": {},
   "outputs": [],
   "source": [
    "def find_dl(lat, lons):\n",
    "        \"\"\"\n",
    "        Find average length of 1 grid cell - convert lat to radians, take cos +\n",
    "        divide by Earth's circumference (m)\n",
    "        \"\"\"\n",
    "        earth_circ = (40075*10**3)  # Earth's circumference in m\n",
    "        lon_shape = len([lons])\n",
    "        lat_rad = np.radians(abs(lat))\n",
    "        dl = math.cos(lat_rad)*(earth_circ/lon_shape)  # length of pixel in m\n",
    "        return(dl)\n",
    "\n",
    "def lon180(ds):\n",
    "    ds.coords['lon'] = (ds.coords['lon'] + 180) % 360 - 180\n",
    "    ds = ds.sortby(ds.lon)\n",
    "    return ds\n",
    "\n",
    "def get_pixel_size(lat, lon):\n",
    "    if lat[0] > lat[-1]:\n",
    "        temp_lat = lat[::-1]\n",
    "    else:\n",
    "        temp_lat = lat\n",
    "    r = 6.371*1e6\n",
    "    rad = (2*math.pi/360)  # (m)\n",
    "    da = np.nan * np.zeros((len(temp_lat)))      # (m2)\n",
    "\n",
    "    for i in range(len(temp_lat)-1):\n",
    "        da[i] = (2*math.pi * (1/len(lon)) *\n",
    "                 r**2*(math.sin(rad*temp_lat[i+1]) -\n",
    "                       math.sin(rad*temp_lat[i])))\n",
    "\n",
    "    # Check if top and bottom latitude are same\n",
    "    if temp_lat[0] == -temp_lat[-1]:\n",
    "        da[-1] = da[0]\n",
    "    return(da)"
   ]
  },
  {
   "cell_type": "code",
   "execution_count": 65,
   "metadata": {},
   "outputs": [],
   "source": [
    "data_path = \"F:/Data/LUMIP\"\n"
   ]
  },
  {
   "cell_type": "code",
   "execution_count": 66,
   "metadata": {},
   "outputs": [
    {
     "ename": "FileNotFoundError",
     "evalue": "[Errno 2] No such file or directory: b'F:\\\\Data\\\\LUMIP\\\\CanESM5\\\\hus_Amon_CanESM5_ssp370_r1i1p1f1_gn_201501-210012.nc'",
     "output_type": "error",
     "traceback": [
      "\u001b[1;31m---------------------------------------------------------------------------\u001b[0m",
      "\u001b[1;31mKeyError\u001b[0m                                  Traceback (most recent call last)",
      "File \u001b[1;32mc:\\Users\\mastr\\miniconda3\\envs\\geo_clim\\lib\\site-packages\\xarray\\backends\\file_manager.py:201\u001b[0m, in \u001b[0;36mCachingFileManager._acquire_with_cache_info\u001b[1;34m(self, needs_lock)\u001b[0m\n\u001b[0;32m    200\u001b[0m \u001b[38;5;28;01mtry\u001b[39;00m:\n\u001b[1;32m--> 201\u001b[0m     file \u001b[38;5;241m=\u001b[39m \u001b[38;5;28;43mself\u001b[39;49m\u001b[38;5;241;43m.\u001b[39;49m\u001b[43m_cache\u001b[49m\u001b[43m[\u001b[49m\u001b[38;5;28;43mself\u001b[39;49m\u001b[38;5;241;43m.\u001b[39;49m\u001b[43m_key\u001b[49m\u001b[43m]\u001b[49m\n\u001b[0;32m    202\u001b[0m \u001b[38;5;28;01mexcept\u001b[39;00m \u001b[38;5;167;01mKeyError\u001b[39;00m:\n",
      "File \u001b[1;32mc:\\Users\\mastr\\miniconda3\\envs\\geo_clim\\lib\\site-packages\\xarray\\backends\\lru_cache.py:55\u001b[0m, in \u001b[0;36mLRUCache.__getitem__\u001b[1;34m(self, key)\u001b[0m\n\u001b[0;32m     54\u001b[0m \u001b[38;5;28;01mwith\u001b[39;00m \u001b[38;5;28mself\u001b[39m\u001b[38;5;241m.\u001b[39m_lock:\n\u001b[1;32m---> 55\u001b[0m     value \u001b[38;5;241m=\u001b[39m \u001b[38;5;28;43mself\u001b[39;49m\u001b[38;5;241;43m.\u001b[39;49m\u001b[43m_cache\u001b[49m\u001b[43m[\u001b[49m\u001b[43mkey\u001b[49m\u001b[43m]\u001b[49m\n\u001b[0;32m     56\u001b[0m     \u001b[38;5;28mself\u001b[39m\u001b[38;5;241m.\u001b[39m_cache\u001b[38;5;241m.\u001b[39mmove_to_end(key)\n",
      "\u001b[1;31mKeyError\u001b[0m: [<class 'netCDF4._netCDF4.Dataset'>, ('F:\\\\Data\\\\LUMIP\\\\CanESM5\\\\hus_Amon_CanESM5_ssp370_r1i1p1f1_gn_201501-210012.nc',), 'r', (('clobber', True), ('diskless', False), ('format', 'NETCDF4'), ('persist', False))]",
      "\nDuring handling of the above exception, another exception occurred:\n",
      "\u001b[1;31mFileNotFoundError\u001b[0m                         Traceback (most recent call last)",
      "Cell \u001b[1;32mIn [66], line 2\u001b[0m\n\u001b[0;32m      1\u001b[0m model \u001b[38;5;241m=\u001b[39m models[\u001b[38;5;241m1\u001b[39m]\n\u001b[1;32m----> 2\u001b[0m q1 \u001b[38;5;241m=\u001b[39m \u001b[43mxr\u001b[49m\u001b[38;5;241;43m.\u001b[39;49m\u001b[43mopen_dataset\u001b[49m\u001b[43m(\u001b[49m\u001b[43mos\u001b[49m\u001b[38;5;241;43m.\u001b[39;49m\u001b[43mpath\u001b[49m\u001b[38;5;241;43m.\u001b[39;49m\u001b[43mjoin\u001b[49m\u001b[43m(\u001b[49m\u001b[43mdata_path\u001b[49m\u001b[43m \u001b[49m\u001b[38;5;241;43m+\u001b[39;49m\u001b[43m \u001b[49m\u001b[38;5;124;43m\"\u001b[39;49m\u001b[38;5;124;43m/\u001b[39;49m\u001b[38;5;124;43m\"\u001b[39;49m\u001b[43m \u001b[49m\u001b[38;5;241;43m+\u001b[39;49m\u001b[43m \u001b[49m\u001b[43mmodel\u001b[49m\u001b[43m \u001b[49m\u001b[38;5;241;43m+\u001b[39;49m\u001b[43m \u001b[49m\u001b[38;5;124;43m\"\u001b[39;49m\u001b[38;5;124;43m/\u001b[39;49m\u001b[38;5;124;43m\"\u001b[39;49m\u001b[43m \u001b[49m\u001b[38;5;241;43m+\u001b[39;49m\u001b[43m \u001b[49m\u001b[38;5;124;43m\"\u001b[39;49m\u001b[38;5;124;43mhus_Amon_\u001b[39;49m\u001b[38;5;124;43m\"\u001b[39;49m\u001b[43m \u001b[49m\u001b[38;5;241;43m+\u001b[39;49m\u001b[43m \u001b[49m\u001b[43mmodel\u001b[49m\u001b[43m \u001b[49m\u001b[38;5;241;43m+\u001b[39;49m\u001b[43m \u001b[49m\u001b[38;5;124;43m\"\u001b[39;49m\u001b[38;5;124;43m_ssp370_r1i1p1f1_gn_201501-210012.nc\u001b[39;49m\u001b[38;5;124;43m\"\u001b[39;49m\u001b[43m)\u001b[49m\u001b[43m,\u001b[49m\u001b[43m \u001b[49m\u001b[43mchunks\u001b[49m\u001b[38;5;241;43m=\u001b[39;49m\u001b[43m{\u001b[49m\u001b[38;5;124;43m\"\u001b[39;49m\u001b[38;5;124;43mtime\u001b[39;49m\u001b[38;5;124;43m\"\u001b[39;49m\u001b[43m:\u001b[49m\u001b[43m \u001b[49m\u001b[38;5;241;43m258\u001b[39;49m\u001b[43m}\u001b[49m\u001b[43m)\u001b[49m[\u001b[38;5;124m\"\u001b[39m\u001b[38;5;124mhus\u001b[39m\u001b[38;5;124m\"\u001b[39m]  \u001b[38;5;66;03m# Specific humidity (kg/kg)\u001b[39;00m\n\u001b[0;32m      3\u001b[0m u1 \u001b[38;5;241m=\u001b[39m xr\u001b[38;5;241m.\u001b[39mopen_dataset(os\u001b[38;5;241m.\u001b[39mpath\u001b[38;5;241m.\u001b[39mjoin(data_path \u001b[38;5;241m+\u001b[39m \u001b[38;5;124m\"\u001b[39m\u001b[38;5;124m/\u001b[39m\u001b[38;5;124m\"\u001b[39m \u001b[38;5;241m+\u001b[39m model \u001b[38;5;241m+\u001b[39m \u001b[38;5;124m\"\u001b[39m\u001b[38;5;124m/\u001b[39m\u001b[38;5;124m\"\u001b[39m \u001b[38;5;241m+\u001b[39m \u001b[38;5;124m\"\u001b[39m\u001b[38;5;124mua_Amon_\u001b[39m\u001b[38;5;124m\"\u001b[39m \u001b[38;5;241m+\u001b[39m model \u001b[38;5;241m+\u001b[39m \u001b[38;5;124m\"\u001b[39m\u001b[38;5;124m_ssp370_r1i1p1f1_gn_201501-210012.nc\u001b[39m\u001b[38;5;124m\"\u001b[39m), chunks\u001b[38;5;241m=\u001b[39m{\u001b[38;5;124m\"\u001b[39m\u001b[38;5;124mtime\u001b[39m\u001b[38;5;124m\"\u001b[39m: \u001b[38;5;241m258\u001b[39m})[\u001b[38;5;124m\"\u001b[39m\u001b[38;5;124mua\u001b[39m\u001b[38;5;124m\"\u001b[39m]  \u001b[38;5;66;03m# Zonal wind (m/s)\u001b[39;00m\n\u001b[0;32m      4\u001b[0m v1 \u001b[38;5;241m=\u001b[39m xr\u001b[38;5;241m.\u001b[39mopen_dataset(os\u001b[38;5;241m.\u001b[39mpath\u001b[38;5;241m.\u001b[39mjoin(data_path \u001b[38;5;241m+\u001b[39m \u001b[38;5;124m\"\u001b[39m\u001b[38;5;124m/\u001b[39m\u001b[38;5;124m\"\u001b[39m \u001b[38;5;241m+\u001b[39m model \u001b[38;5;241m+\u001b[39m \u001b[38;5;124m\"\u001b[39m\u001b[38;5;124m/\u001b[39m\u001b[38;5;124m\"\u001b[39m \u001b[38;5;241m+\u001b[39m \u001b[38;5;124m\"\u001b[39m\u001b[38;5;124mva_Amon_\u001b[39m\u001b[38;5;124m\"\u001b[39m \u001b[38;5;241m+\u001b[39m model \u001b[38;5;241m+\u001b[39m \u001b[38;5;124m\"\u001b[39m\u001b[38;5;124m_ssp370_r1i1p1f1_gn_201501-210012.nc\u001b[39m\u001b[38;5;124m\"\u001b[39m), chunks\u001b[38;5;241m=\u001b[39m{\u001b[38;5;124m\"\u001b[39m\u001b[38;5;124mtime\u001b[39m\u001b[38;5;124m\"\u001b[39m: \u001b[38;5;241m258\u001b[39m})[\u001b[38;5;124m\"\u001b[39m\u001b[38;5;124mva\u001b[39m\u001b[38;5;124m\"\u001b[39m]\n",
      "File \u001b[1;32mc:\\Users\\mastr\\miniconda3\\envs\\geo_clim\\lib\\site-packages\\xarray\\backends\\api.py:539\u001b[0m, in \u001b[0;36mopen_dataset\u001b[1;34m(filename_or_obj, engine, chunks, cache, decode_cf, mask_and_scale, decode_times, decode_timedelta, use_cftime, concat_characters, decode_coords, drop_variables, inline_array, backend_kwargs, **kwargs)\u001b[0m\n\u001b[0;32m    527\u001b[0m decoders \u001b[38;5;241m=\u001b[39m _resolve_decoders_kwargs(\n\u001b[0;32m    528\u001b[0m     decode_cf,\n\u001b[0;32m    529\u001b[0m     open_backend_dataset_parameters\u001b[38;5;241m=\u001b[39mbackend\u001b[38;5;241m.\u001b[39mopen_dataset_parameters,\n\u001b[1;32m   (...)\u001b[0m\n\u001b[0;32m    535\u001b[0m     decode_coords\u001b[38;5;241m=\u001b[39mdecode_coords,\n\u001b[0;32m    536\u001b[0m )\n\u001b[0;32m    538\u001b[0m overwrite_encoded_chunks \u001b[38;5;241m=\u001b[39m kwargs\u001b[38;5;241m.\u001b[39mpop(\u001b[38;5;124m\"\u001b[39m\u001b[38;5;124moverwrite_encoded_chunks\u001b[39m\u001b[38;5;124m\"\u001b[39m, \u001b[38;5;28;01mNone\u001b[39;00m)\n\u001b[1;32m--> 539\u001b[0m backend_ds \u001b[38;5;241m=\u001b[39m \u001b[43mbackend\u001b[49m\u001b[38;5;241;43m.\u001b[39;49m\u001b[43mopen_dataset\u001b[49m\u001b[43m(\u001b[49m\n\u001b[0;32m    540\u001b[0m \u001b[43m    \u001b[49m\u001b[43mfilename_or_obj\u001b[49m\u001b[43m,\u001b[49m\n\u001b[0;32m    541\u001b[0m \u001b[43m    \u001b[49m\u001b[43mdrop_variables\u001b[49m\u001b[38;5;241;43m=\u001b[39;49m\u001b[43mdrop_variables\u001b[49m\u001b[43m,\u001b[49m\n\u001b[0;32m    542\u001b[0m \u001b[43m    \u001b[49m\u001b[38;5;241;43m*\u001b[39;49m\u001b[38;5;241;43m*\u001b[39;49m\u001b[43mdecoders\u001b[49m\u001b[43m,\u001b[49m\n\u001b[0;32m    543\u001b[0m \u001b[43m    \u001b[49m\u001b[38;5;241;43m*\u001b[39;49m\u001b[38;5;241;43m*\u001b[39;49m\u001b[43mkwargs\u001b[49m\u001b[43m,\u001b[49m\n\u001b[0;32m    544\u001b[0m \u001b[43m\u001b[49m\u001b[43m)\u001b[49m\n\u001b[0;32m    545\u001b[0m ds \u001b[38;5;241m=\u001b[39m _dataset_from_backend_dataset(\n\u001b[0;32m    546\u001b[0m     backend_ds,\n\u001b[0;32m    547\u001b[0m     filename_or_obj,\n\u001b[1;32m   (...)\u001b[0m\n\u001b[0;32m    555\u001b[0m     \u001b[38;5;241m*\u001b[39m\u001b[38;5;241m*\u001b[39mkwargs,\n\u001b[0;32m    556\u001b[0m )\n\u001b[0;32m    557\u001b[0m \u001b[38;5;28;01mreturn\u001b[39;00m ds\n",
      "File \u001b[1;32mc:\\Users\\mastr\\miniconda3\\envs\\geo_clim\\lib\\site-packages\\xarray\\backends\\netCDF4_.py:555\u001b[0m, in \u001b[0;36mNetCDF4BackendEntrypoint.open_dataset\u001b[1;34m(self, filename_or_obj, mask_and_scale, decode_times, concat_characters, decode_coords, drop_variables, use_cftime, decode_timedelta, group, mode, format, clobber, diskless, persist, lock, autoclose)\u001b[0m\n\u001b[0;32m    534\u001b[0m \u001b[38;5;28;01mdef\u001b[39;00m \u001b[38;5;21mopen_dataset\u001b[39m(\n\u001b[0;32m    535\u001b[0m     \u001b[38;5;28mself\u001b[39m,\n\u001b[0;32m    536\u001b[0m     filename_or_obj,\n\u001b[1;32m   (...)\u001b[0m\n\u001b[0;32m    551\u001b[0m     autoclose\u001b[38;5;241m=\u001b[39m\u001b[38;5;28;01mFalse\u001b[39;00m,\n\u001b[0;32m    552\u001b[0m ):\n\u001b[0;32m    554\u001b[0m     filename_or_obj \u001b[38;5;241m=\u001b[39m _normalize_path(filename_or_obj)\n\u001b[1;32m--> 555\u001b[0m     store \u001b[38;5;241m=\u001b[39m \u001b[43mNetCDF4DataStore\u001b[49m\u001b[38;5;241;43m.\u001b[39;49m\u001b[43mopen\u001b[49m\u001b[43m(\u001b[49m\n\u001b[0;32m    556\u001b[0m \u001b[43m        \u001b[49m\u001b[43mfilename_or_obj\u001b[49m\u001b[43m,\u001b[49m\n\u001b[0;32m    557\u001b[0m \u001b[43m        \u001b[49m\u001b[43mmode\u001b[49m\u001b[38;5;241;43m=\u001b[39;49m\u001b[43mmode\u001b[49m\u001b[43m,\u001b[49m\n\u001b[0;32m    558\u001b[0m \u001b[43m        \u001b[49m\u001b[38;5;28;43mformat\u001b[39;49m\u001b[38;5;241;43m=\u001b[39;49m\u001b[38;5;28;43mformat\u001b[39;49m\u001b[43m,\u001b[49m\n\u001b[0;32m    559\u001b[0m \u001b[43m        \u001b[49m\u001b[43mgroup\u001b[49m\u001b[38;5;241;43m=\u001b[39;49m\u001b[43mgroup\u001b[49m\u001b[43m,\u001b[49m\n\u001b[0;32m    560\u001b[0m \u001b[43m        \u001b[49m\u001b[43mclobber\u001b[49m\u001b[38;5;241;43m=\u001b[39;49m\u001b[43mclobber\u001b[49m\u001b[43m,\u001b[49m\n\u001b[0;32m    561\u001b[0m \u001b[43m        \u001b[49m\u001b[43mdiskless\u001b[49m\u001b[38;5;241;43m=\u001b[39;49m\u001b[43mdiskless\u001b[49m\u001b[43m,\u001b[49m\n\u001b[0;32m    562\u001b[0m \u001b[43m        \u001b[49m\u001b[43mpersist\u001b[49m\u001b[38;5;241;43m=\u001b[39;49m\u001b[43mpersist\u001b[49m\u001b[43m,\u001b[49m\n\u001b[0;32m    563\u001b[0m \u001b[43m        \u001b[49m\u001b[43mlock\u001b[49m\u001b[38;5;241;43m=\u001b[39;49m\u001b[43mlock\u001b[49m\u001b[43m,\u001b[49m\n\u001b[0;32m    564\u001b[0m \u001b[43m        \u001b[49m\u001b[43mautoclose\u001b[49m\u001b[38;5;241;43m=\u001b[39;49m\u001b[43mautoclose\u001b[49m\u001b[43m,\u001b[49m\n\u001b[0;32m    565\u001b[0m \u001b[43m    \u001b[49m\u001b[43m)\u001b[49m\n\u001b[0;32m    567\u001b[0m     store_entrypoint \u001b[38;5;241m=\u001b[39m StoreBackendEntrypoint()\n\u001b[0;32m    568\u001b[0m     \u001b[38;5;28;01mwith\u001b[39;00m close_on_error(store):\n",
      "File \u001b[1;32mc:\\Users\\mastr\\miniconda3\\envs\\geo_clim\\lib\\site-packages\\xarray\\backends\\netCDF4_.py:384\u001b[0m, in \u001b[0;36mNetCDF4DataStore.open\u001b[1;34m(cls, filename, mode, format, group, clobber, diskless, persist, lock, lock_maker, autoclose)\u001b[0m\n\u001b[0;32m    378\u001b[0m kwargs \u001b[38;5;241m=\u001b[39m \u001b[38;5;28mdict\u001b[39m(\n\u001b[0;32m    379\u001b[0m     clobber\u001b[38;5;241m=\u001b[39mclobber, diskless\u001b[38;5;241m=\u001b[39mdiskless, persist\u001b[38;5;241m=\u001b[39mpersist, \u001b[38;5;28mformat\u001b[39m\u001b[38;5;241m=\u001b[39m\u001b[38;5;28mformat\u001b[39m\n\u001b[0;32m    380\u001b[0m )\n\u001b[0;32m    381\u001b[0m manager \u001b[38;5;241m=\u001b[39m CachingFileManager(\n\u001b[0;32m    382\u001b[0m     netCDF4\u001b[38;5;241m.\u001b[39mDataset, filename, mode\u001b[38;5;241m=\u001b[39mmode, kwargs\u001b[38;5;241m=\u001b[39mkwargs\n\u001b[0;32m    383\u001b[0m )\n\u001b[1;32m--> 384\u001b[0m \u001b[38;5;28;01mreturn\u001b[39;00m \u001b[38;5;28;43mcls\u001b[39;49m\u001b[43m(\u001b[49m\u001b[43mmanager\u001b[49m\u001b[43m,\u001b[49m\u001b[43m \u001b[49m\u001b[43mgroup\u001b[49m\u001b[38;5;241;43m=\u001b[39;49m\u001b[43mgroup\u001b[49m\u001b[43m,\u001b[49m\u001b[43m \u001b[49m\u001b[43mmode\u001b[49m\u001b[38;5;241;43m=\u001b[39;49m\u001b[43mmode\u001b[49m\u001b[43m,\u001b[49m\u001b[43m \u001b[49m\u001b[43mlock\u001b[49m\u001b[38;5;241;43m=\u001b[39;49m\u001b[43mlock\u001b[49m\u001b[43m,\u001b[49m\u001b[43m \u001b[49m\u001b[43mautoclose\u001b[49m\u001b[38;5;241;43m=\u001b[39;49m\u001b[43mautoclose\u001b[49m\u001b[43m)\u001b[49m\n",
      "File \u001b[1;32mc:\\Users\\mastr\\miniconda3\\envs\\geo_clim\\lib\\site-packages\\xarray\\backends\\netCDF4_.py:332\u001b[0m, in \u001b[0;36mNetCDF4DataStore.__init__\u001b[1;34m(self, manager, group, mode, lock, autoclose)\u001b[0m\n\u001b[0;32m    330\u001b[0m \u001b[38;5;28mself\u001b[39m\u001b[38;5;241m.\u001b[39m_group \u001b[38;5;241m=\u001b[39m group\n\u001b[0;32m    331\u001b[0m \u001b[38;5;28mself\u001b[39m\u001b[38;5;241m.\u001b[39m_mode \u001b[38;5;241m=\u001b[39m mode\n\u001b[1;32m--> 332\u001b[0m \u001b[38;5;28mself\u001b[39m\u001b[38;5;241m.\u001b[39mformat \u001b[38;5;241m=\u001b[39m \u001b[38;5;28;43mself\u001b[39;49m\u001b[38;5;241;43m.\u001b[39;49m\u001b[43mds\u001b[49m\u001b[38;5;241m.\u001b[39mdata_model\n\u001b[0;32m    333\u001b[0m \u001b[38;5;28mself\u001b[39m\u001b[38;5;241m.\u001b[39m_filename \u001b[38;5;241m=\u001b[39m \u001b[38;5;28mself\u001b[39m\u001b[38;5;241m.\u001b[39mds\u001b[38;5;241m.\u001b[39mfilepath()\n\u001b[0;32m    334\u001b[0m \u001b[38;5;28mself\u001b[39m\u001b[38;5;241m.\u001b[39mis_remote \u001b[38;5;241m=\u001b[39m is_remote_uri(\u001b[38;5;28mself\u001b[39m\u001b[38;5;241m.\u001b[39m_filename)\n",
      "File \u001b[1;32mc:\\Users\\mastr\\miniconda3\\envs\\geo_clim\\lib\\site-packages\\xarray\\backends\\netCDF4_.py:393\u001b[0m, in \u001b[0;36mNetCDF4DataStore.ds\u001b[1;34m(self)\u001b[0m\n\u001b[0;32m    391\u001b[0m \u001b[38;5;129m@property\u001b[39m\n\u001b[0;32m    392\u001b[0m \u001b[38;5;28;01mdef\u001b[39;00m \u001b[38;5;21mds\u001b[39m(\u001b[38;5;28mself\u001b[39m):\n\u001b[1;32m--> 393\u001b[0m     \u001b[38;5;28;01mreturn\u001b[39;00m \u001b[38;5;28;43mself\u001b[39;49m\u001b[38;5;241;43m.\u001b[39;49m\u001b[43m_acquire\u001b[49m\u001b[43m(\u001b[49m\u001b[43m)\u001b[49m\n",
      "File \u001b[1;32mc:\\Users\\mastr\\miniconda3\\envs\\geo_clim\\lib\\site-packages\\xarray\\backends\\netCDF4_.py:387\u001b[0m, in \u001b[0;36mNetCDF4DataStore._acquire\u001b[1;34m(self, needs_lock)\u001b[0m\n\u001b[0;32m    386\u001b[0m \u001b[38;5;28;01mdef\u001b[39;00m \u001b[38;5;21m_acquire\u001b[39m(\u001b[38;5;28mself\u001b[39m, needs_lock\u001b[38;5;241m=\u001b[39m\u001b[38;5;28;01mTrue\u001b[39;00m):\n\u001b[1;32m--> 387\u001b[0m     \u001b[38;5;28;01mwith\u001b[39;00m \u001b[38;5;28mself\u001b[39m\u001b[38;5;241m.\u001b[39m_manager\u001b[38;5;241m.\u001b[39macquire_context(needs_lock) \u001b[38;5;28;01mas\u001b[39;00m root:\n\u001b[0;32m    388\u001b[0m         ds \u001b[38;5;241m=\u001b[39m _nc4_require_group(root, \u001b[38;5;28mself\u001b[39m\u001b[38;5;241m.\u001b[39m_group, \u001b[38;5;28mself\u001b[39m\u001b[38;5;241m.\u001b[39m_mode)\n\u001b[0;32m    389\u001b[0m     \u001b[38;5;28;01mreturn\u001b[39;00m ds\n",
      "File \u001b[1;32mc:\\Users\\mastr\\miniconda3\\envs\\geo_clim\\lib\\contextlib.py:113\u001b[0m, in \u001b[0;36m_GeneratorContextManager.__enter__\u001b[1;34m(self)\u001b[0m\n\u001b[0;32m    111\u001b[0m \u001b[38;5;28;01mdel\u001b[39;00m \u001b[38;5;28mself\u001b[39m\u001b[38;5;241m.\u001b[39margs, \u001b[38;5;28mself\u001b[39m\u001b[38;5;241m.\u001b[39mkwds, \u001b[38;5;28mself\u001b[39m\u001b[38;5;241m.\u001b[39mfunc\n\u001b[0;32m    112\u001b[0m \u001b[38;5;28;01mtry\u001b[39;00m:\n\u001b[1;32m--> 113\u001b[0m     \u001b[38;5;28;01mreturn\u001b[39;00m \u001b[38;5;28;43mnext\u001b[39;49m\u001b[43m(\u001b[49m\u001b[38;5;28;43mself\u001b[39;49m\u001b[38;5;241;43m.\u001b[39;49m\u001b[43mgen\u001b[49m\u001b[43m)\u001b[49m\n\u001b[0;32m    114\u001b[0m \u001b[38;5;28;01mexcept\u001b[39;00m \u001b[38;5;167;01mStopIteration\u001b[39;00m:\n\u001b[0;32m    115\u001b[0m     \u001b[38;5;28;01mraise\u001b[39;00m \u001b[38;5;167;01mRuntimeError\u001b[39;00m(\u001b[38;5;124m\"\u001b[39m\u001b[38;5;124mgenerator didn\u001b[39m\u001b[38;5;124m'\u001b[39m\u001b[38;5;124mt yield\u001b[39m\u001b[38;5;124m\"\u001b[39m) \u001b[38;5;28;01mfrom\u001b[39;00m \u001b[38;5;28mNone\u001b[39m\n",
      "File \u001b[1;32mc:\\Users\\mastr\\miniconda3\\envs\\geo_clim\\lib\\site-packages\\xarray\\backends\\file_manager.py:189\u001b[0m, in \u001b[0;36mCachingFileManager.acquire_context\u001b[1;34m(self, needs_lock)\u001b[0m\n\u001b[0;32m    186\u001b[0m \u001b[38;5;129m@contextlib\u001b[39m\u001b[38;5;241m.\u001b[39mcontextmanager\n\u001b[0;32m    187\u001b[0m \u001b[38;5;28;01mdef\u001b[39;00m \u001b[38;5;21macquire_context\u001b[39m(\u001b[38;5;28mself\u001b[39m, needs_lock\u001b[38;5;241m=\u001b[39m\u001b[38;5;28;01mTrue\u001b[39;00m):\n\u001b[0;32m    188\u001b[0m     \u001b[38;5;124;03m\"\"\"Context manager for acquiring a file.\"\"\"\u001b[39;00m\n\u001b[1;32m--> 189\u001b[0m     file, cached \u001b[38;5;241m=\u001b[39m \u001b[38;5;28;43mself\u001b[39;49m\u001b[38;5;241;43m.\u001b[39;49m\u001b[43m_acquire_with_cache_info\u001b[49m\u001b[43m(\u001b[49m\u001b[43mneeds_lock\u001b[49m\u001b[43m)\u001b[49m\n\u001b[0;32m    190\u001b[0m     \u001b[38;5;28;01mtry\u001b[39;00m:\n\u001b[0;32m    191\u001b[0m         \u001b[38;5;28;01myield\u001b[39;00m file\n",
      "File \u001b[1;32mc:\\Users\\mastr\\miniconda3\\envs\\geo_clim\\lib\\site-packages\\xarray\\backends\\file_manager.py:207\u001b[0m, in \u001b[0;36mCachingFileManager._acquire_with_cache_info\u001b[1;34m(self, needs_lock)\u001b[0m\n\u001b[0;32m    205\u001b[0m     kwargs \u001b[38;5;241m=\u001b[39m kwargs\u001b[38;5;241m.\u001b[39mcopy()\n\u001b[0;32m    206\u001b[0m     kwargs[\u001b[38;5;124m\"\u001b[39m\u001b[38;5;124mmode\u001b[39m\u001b[38;5;124m\"\u001b[39m] \u001b[38;5;241m=\u001b[39m \u001b[38;5;28mself\u001b[39m\u001b[38;5;241m.\u001b[39m_mode\n\u001b[1;32m--> 207\u001b[0m file \u001b[38;5;241m=\u001b[39m \u001b[38;5;28;43mself\u001b[39;49m\u001b[38;5;241;43m.\u001b[39;49m\u001b[43m_opener\u001b[49m\u001b[43m(\u001b[49m\u001b[38;5;241;43m*\u001b[39;49m\u001b[38;5;28;43mself\u001b[39;49m\u001b[38;5;241;43m.\u001b[39;49m\u001b[43m_args\u001b[49m\u001b[43m,\u001b[49m\u001b[43m \u001b[49m\u001b[38;5;241;43m*\u001b[39;49m\u001b[38;5;241;43m*\u001b[39;49m\u001b[43mkwargs\u001b[49m\u001b[43m)\u001b[49m\n\u001b[0;32m    208\u001b[0m \u001b[38;5;28;01mif\u001b[39;00m \u001b[38;5;28mself\u001b[39m\u001b[38;5;241m.\u001b[39m_mode \u001b[38;5;241m==\u001b[39m \u001b[38;5;124m\"\u001b[39m\u001b[38;5;124mw\u001b[39m\u001b[38;5;124m\"\u001b[39m:\n\u001b[0;32m    209\u001b[0m     \u001b[38;5;66;03m# ensure file doesn't get overridden when opened again\u001b[39;00m\n\u001b[0;32m    210\u001b[0m     \u001b[38;5;28mself\u001b[39m\u001b[38;5;241m.\u001b[39m_mode \u001b[38;5;241m=\u001b[39m \u001b[38;5;124m\"\u001b[39m\u001b[38;5;124ma\u001b[39m\u001b[38;5;124m\"\u001b[39m\n",
      "File \u001b[1;32msrc\\netCDF4\\_netCDF4.pyx:2463\u001b[0m, in \u001b[0;36mnetCDF4._netCDF4.Dataset.__init__\u001b[1;34m()\u001b[0m\n",
      "File \u001b[1;32msrc\\netCDF4\\_netCDF4.pyx:2026\u001b[0m, in \u001b[0;36mnetCDF4._netCDF4._ensure_nc_success\u001b[1;34m()\u001b[0m\n",
      "\u001b[1;31mFileNotFoundError\u001b[0m: [Errno 2] No such file or directory: b'F:\\\\Data\\\\LUMIP\\\\CanESM5\\\\hus_Amon_CanESM5_ssp370_r1i1p1f1_gn_201501-210012.nc'"
     ]
    }
   ],
   "source": [
    "model = \"ACCESS-ESM1-5\"\n",
    "q1 = xr.open_dataset(os.path.join(data_path + \"/\" + model + \"/\" + \"hus_Amon_\" + model + \"_ssp370_r1i1p1f1_gn_201501-210012.nc\"), chunks={\"time\": 258})[\"hus\"]  # Specific humidity (kg/kg)\n",
    "u1 = xr.open_dataset(os.path.join(data_path + \"/\" + model + \"/\" + \"ua_Amon_\" + model + \"_ssp370_r1i1p1f1_gn_201501-210012.nc\"), chunks={\"time\": 258})[\"ua\"]  # Zonal wind (m/s)\n",
    "v1 = xr.open_dataset(os.path.join(data_path + \"/\" + model + \"/\" + \"va_Amon_\" + model + \"_ssp370_r1i1p1f1_gn_201501-210012.nc\"), chunks={\"time\": 258})[\"va\"]  # Meridional wind (m/s)\n"
   ]
  },
  {
   "cell_type": "code",
   "execution_count": null,
   "metadata": {},
   "outputs": [],
   "source": [
    "q2 = xr.open_dataset(os.path.join(data_path + \"/\" + model + \"/\" + \"hus_Amon_\" + model + \"_ssp370-ssp126Lu_r1i1p1f1_gn_201501-210012.nc\"), chunks={\"time\": 258})[\"hus\"]  # Specific humidity (kg/kg)\n",
    "u2 = xr.open_dataset(os.path.join(data_path + \"/\" + model + \"/\" + \"ua_Amon_\" + model + \"_ssp370-ssp126Lu_r1i1p1f1_gn_201501-210012.nc\"), chunks={\"time\": 258})[\"ua\"]  # Zonal wind (m/s)\n",
    "v2 = xr.open_dataset(os.path.join(data_path + \"/\" + model + \"/\" + \"va_Amon_\" + model + \"_ssp370-ssp126Lu_r1i1p1f1_gn_201501-210012.nc\"), chunks={\"time\": 258})[\"va\"]  # Meridional wind (m/s)"
   ]
  },
  {
   "cell_type": "code",
   "execution_count": null,
   "metadata": {},
   "outputs": [],
   "source": [
    "data_path = \"G:/My Drive/MPIM/data/\"\n",
    "\n",
    "scenario = 'ssp126Lu'\n",
    "filepath = glob.glob(os.path.join(data_path + 'xr_' + scenario + \"_\" + model + '_pft.nc'))[0]                                       ## List of files sorted by name\n",
    "xr_aff_pft = xr.open_dataset(filepath, drop_variables=[\"time_bnds\",\"lon_bnds\",\"lat_bnds\"],engine = 'netcdf4',chunks={\"time\": 258})[\"treeFrac\"]\n",
    "\n",
    "scenario = 'ssp370'\n",
    "filepath = glob.glob(os.path.join(data_path + 'xr_' + scenario + \"_\" + model + '_pft.nc'))[0]                                       ## List of files sorted by name\n",
    "xr_ctl_pft = xr.open_dataset(filepath, drop_variables=[\"time_bnds\",\"lon_bnds\",\"lat_bnds\"],engine = 'netcdf4',chunks={\"time\": 258})[\"treeFrac\"]\n"
   ]
  },
  {
   "cell_type": "code",
   "execution_count": null,
   "metadata": {},
   "outputs": [],
   "source": [
    "data_path = \"G:/My Drive/MPIM/data/\"\n",
    "\n",
    "scenario = 'ssp126Lu'\n",
    "filepath = glob.glob(os.path.join(data_path + 'xr_' + scenario + \"_\" + model + '.nc'))[0]                                       ## List of files sorted by name\n",
    "xr_aff = xr.open_dataset(filepath, drop_variables=[\"time_bnds\",\"lon_bnds\",\"lat_bnds\"],engine = 'netcdf4',chunks={\"time\": 258})[\"evspsbl\"]\n",
    "\n",
    "scenario = 'ssp370'\n",
    "filepath = glob.glob(os.path.join(data_path + 'xr_' + scenario + \"_\" + model + '.nc'))[0]                                       ## List of files sorted by name\n",
    "xr_ctl = xr.open_dataset(filepath, drop_variables=[\"time_bnds\",\"lon_bnds\",\"lat_bnds\"],engine = 'netcdf4',chunks={\"time\": 258})[\"evspsbl\"]\n"
   ]
  },
  {
   "cell_type": "code",
   "execution_count": null,
   "metadata": {},
   "outputs": [],
   "source": [
    "xr_delta_pft = (xr_aff_pft.sel(time = slice(\"2071-01\",\"2100-12\")).mean(dim = \"time\") - xr_ctl_pft.sel(time = slice(\"2071-01\",\"2100-12\")).mean(dim = \"time\"))\n",
    "treefrac_pos = xr_delta_pft.where(xr_delta_pft > 10)"
   ]
  },
  {
   "cell_type": "code",
   "execution_count": null,
   "metadata": {},
   "outputs": [],
   "source": [
    "# Evapotranspiration in Kg m-2 s-1\n",
    "et = (xr_aff - xr_ctl)"
   ]
  },
  {
   "cell_type": "code",
   "execution_count": null,
   "metadata": {},
   "outputs": [],
   "source": [
    "q2 = q2.assign_coords(plev=q1.plev)\n",
    "u2 = u2.assign_coords(plev=u1.plev)\n",
    "v2 = v2.assign_coords(plev=v1.plev)"
   ]
  },
  {
   "cell_type": "code",
   "execution_count": null,
   "metadata": {},
   "outputs": [],
   "source": [
    "q = (q2 - q1)\n",
    "u = (u2 - u1)\n",
    "v = (v2 - v1)\n",
    "\n",
    "q = q.sel(lat=slice(-61,90))\n",
    "u = u.sel(lat=slice(-61,90))\n",
    "v = v.sel(lat=slice(-61,90))\n",
    "\n",
    "treefrac_pos = treefrac_pos.assign_coords(lat = q.lat); treefrac_pos = treefrac_pos.assign_coords(lon = q.lon)\n",
    "et = et.assign_coords(lat = q.lat); et = et.assign_coords(lon = q.lon); et = et.assign_coords(time = q.time)\n"
   ]
  },
  {
   "cell_type": "code",
   "execution_count": null,
   "metadata": {},
   "outputs": [
    {
     "name": "stdout",
     "output_type": "stream",
     "text": [
      "<xarray.DataArray (time: 1032, lat: 121, lon: 192)>\n",
      "dask.array<truediv, shape=(1032, 121, 192), dtype=float64, chunksize=(258, 121, 192), chunktype=numpy.ndarray>\n",
      "Coordinates:\n",
      "  * time     (time) datetime64[ns] 2015-01-16T12:00:00 ... 2100-12-16T12:00:00\n",
      "  * lat      (lat) float64 -60.62 -59.38 -58.12 -56.88 ... 86.88 88.12 89.38\n",
      "  * lon      (lon) float64 0.9375 2.812 4.688 6.562 ... 353.4 355.3 357.2 359.1\n",
      "<xarray.DataArray (time: 1032, lat: 121, lon: 192)>\n",
      "dask.array<truediv, shape=(1032, 121, 192), dtype=float64, chunksize=(258, 121, 192), chunktype=numpy.ndarray>\n",
      "Coordinates:\n",
      "  * time     (time) datetime64[ns] 2015-01-16T12:00:00 ... 2100-12-16T12:00:00\n",
      "  * lat      (lat) float64 -60.62 -59.38 -58.12 -56.88 ... 86.88 88.12 89.38\n",
      "  * lon      (lon) float64 0.9375 2.812 4.688 6.562 ... 353.4 355.3 357.2 359.1\n"
     ]
    }
   ],
   "source": [
    "# Ensure that the datasets have matching dimensions\n",
    "assert q.dims == u.dims == v.dims\n",
    "\n",
    "# Pressure levels (Pa)\n",
    "pressure = q.coords['plev']\n",
    "\n",
    "# Calculate the zonal (qx) and meridional (qy) water vapor fluxes (kg/(m^2*s))\n",
    "qx = q * u\n",
    "qy = q * v\n",
    "\n",
    "# Integrate vertically over all pressure levels\n",
    "# Use the trapezoidal rule for integration\n",
    "dp = np.diff(pressure)  # Difference between consecutive pressure levels\n",
    "\n",
    "# Add an extra level at the top for integration purposes\n",
    "dp = np.append(dp, dp[-1])\n",
    "\n",
    "# Reshape dp to make it broadcastable across qx and qy\n",
    "dp = dp.reshape((1, -1, 1, 1))\n",
    "\n",
    "# Vertical integration\n",
    "# Multiply each level flux by the corresponding pressure difference and integrate\n",
    "qu = (qx * dp).sum(dim='plev') / 9.81  # Dividing by gravitational acceleration to convert to (kg/m^2/s)\n",
    "qv = (qy * dp).sum(dim='plev') / 9.81\n",
    "\n",
    "# Resulting vertically integrated water vapor fluxes\n",
    "print(qu)\n",
    "print(qv)\n"
   ]
  },
  {
   "cell_type": "code",
   "execution_count": null,
   "metadata": {},
   "outputs": [],
   "source": [
    "pixel_size_grid = get_pixel_size(qu.lat.values, qu.lon.values)\n",
    "pixel_size_grid = np.array([pixel_size_grid]*len(qu.lon)).transpose()"
   ]
  },
  {
   "cell_type": "code",
   "execution_count": null,
   "metadata": {},
   "outputs": [],
   "source": [
    "qu = qu.compute()\n",
    "qv = qv.compute()\n",
    "et = et.compute()"
   ]
  },
  {
   "cell_type": "code",
   "execution_count": null,
   "metadata": {},
   "outputs": [],
   "source": [
    "# Compute the operation on the cells with at least 10% of increased treeFrac in the 2070-2100 period\n",
    "cells = treefrac_pos.stack(cell = [\"lon\",\"lat\"]).where(treefrac_pos.stack(cell = [\"lon\",\"lat\"]).notnull(), drop = True).cell \n",
    "grids = cells.values\n",
    "res_y = (treefrac_pos.lat[1] - treefrac_pos.lat[0]).values\n",
    "res_x = (treefrac_pos.lon[1] - treefrac_pos.lon[0]).values\n",
    "\n",
    "qu_stack = qu.stack(cell = [\"lon\",\"lat\"])\n",
    "qv_stack = qv.stack(cell = [\"lon\",\"lat\"])\n",
    "et_stack = et.stack(cell = [\"lon\",\"lat\"])"
   ]
  },
  {
   "cell_type": "code",
   "execution_count": null,
   "metadata": {},
   "outputs": [],
   "source": [
    "xr_B[\"B\"] = xr.DataArray(data=None, coords=[qu_stack.time,qu_stack.cell], dims=[\"time\",\"cell\"])\n",
    "xr_B[\"Rr\"] = xr.DataArray(data=None, coords=[qu_stack.time,qu_stack.cell], dims=[\"time\",\"cell\"])\n",
    "\n",
    "for i,c in enumerate(cells):\n",
    "    locator = {'cell':c}\n",
    "    g = grids[i]\n",
    "\n",
    "    # Lon & Lat indices \n",
    "    ilon = np.where(qu.lon == g[0])[0][0]\n",
    "    ilat = np.where(qu.lat == g[1])[0][0]\n",
    "\n",
    "    lonmin = g[0] - res_x/2\n",
    "    lonmax = g[0] + res_x/2\n",
    "    latmin = g[1] - res_y/2\n",
    "    latmax = g[1] + res_y/2\n",
    "\n",
    "    # Find average grid cell length on E, W, N and S sides of domain in m\n",
    "\n",
    "    dl_e = find_dl(np.mean((latmin, latmax)), lonmax)\n",
    "    dl_w = find_dl(np.mean((latmin, latmax)), lonmin)\n",
    "    dl_n = find_dl(latmax, np.mean((lonmin, lonmax)))\n",
    "    dl_s = find_dl(latmin, np.mean((lonmin, lonmax)))\n",
    "\n",
    "    # Calculate inward moisture flux in kg s-1\n",
    "    # Get water vapour flux for each pixel along transect (kg m-1 s-1) and\n",
    "    # multiply by pixel lenth (m) to get units of kg s-1\n",
    "    # i.e. for each pixel change units to kg s-1\n",
    "\n",
    "    inflow_from_E = -dl_e*qu_stack.loc[locator]\n",
    "    inflow_from_W = dl_w*qu_stack.loc[locator]\n",
    "    inflow_from_N = -dl_n*qv_stack.loc[locator]\n",
    "    inflow_from_S = dl_s*qv_stack.loc[locator]\n",
    "\n",
    "    # Initialize flux_in and flux_out with zeros\n",
    "    flux_in = xr.zeros_like(inflow_from_E)\n",
    "    flux_out = xr.zeros_like(inflow_from_E)\n",
    "\n",
    "    # Calculate total water vapour flux into the cell\n",
    "    # Calculate flux_in and flux_out using vectorized operations\n",
    "    flux_in += inflow_from_E.where(inflow_from_E > 0, 0)\n",
    "    #flux_out += abs(inflow_from_E.where(inflow_from_E < 0, 0))\n",
    "\n",
    "    flux_in += inflow_from_W.where(inflow_from_W > 0, 0)\n",
    "    #flux_out += abs(inflow_from_W.where(inflow_from_W < 0, 0))\n",
    "\n",
    "    flux_in += inflow_from_N.where(inflow_from_N > 0, 0)\n",
    "    #flux_out += abs(inflow_from_N.where(inflow_from_N < 0, 0))\n",
    "\n",
    "    flux_in += inflow_from_S.where(inflow_from_S > 0, 0)\n",
    "    #flux_out += abs(inflow_from_S.where(inflow_from_S < 0, 0))\n",
    "\n",
    "    # Calculate Budyko recycling coefficient\n",
    "    A = pixel_size_grid[ilat,ilon]\n",
    "    EA = et_stack.loc[locator] * A\n",
    "\n",
    "    B = 1 + (EA.values/(2*flux_in.values))\n",
    "    Rr = 1 - (1/B)\n",
    "\n",
    "    xr_B[\"B\"].loc[locator] =  xr.DataArray(data = B)\n",
    "    xr_B[\"Rr\"].loc[locator] =  xr.DataArray(data = Rr)\n",
    "\n",
    "xr_B = xr_B.unstack()\n",
    "xr_B[\"B\"] = xr_B[\"B\"].astype(np.float64)\n",
    "xr_B[\"Rr\"] = xr_B[\"Rr\"].astype(np.float64)\n",
    "\n",
    "# Save and export regression list data\n",
    "import pickle\n",
    "data_path = \"G:/My Drive/MPIM/data/\"\n",
    "\n",
    "with open(os.path.join(data_path+\"budyko_pr_\"+model), \"wb\") as fp:   #Pickling\n",
    "    pickle.dump(xr_B, fp)"
   ]
  }
 ],
 "metadata": {
  "kernelspec": {
   "display_name": "geo_clim",
   "language": "python",
   "name": "python3"
  },
  "language_info": {
   "codemirror_mode": {
    "name": "ipython",
    "version": 3
   },
   "file_extension": ".py",
   "mimetype": "text/x-python",
   "name": "python",
   "nbconvert_exporter": "python",
   "pygments_lexer": "ipython3",
   "version": "3.8.15"
  }
 },
 "nbformat": 4,
 "nbformat_minor": 2
}

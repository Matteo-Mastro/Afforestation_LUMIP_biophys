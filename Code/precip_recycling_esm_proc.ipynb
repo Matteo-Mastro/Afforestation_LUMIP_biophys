{
 "cells": [
  {
   "cell_type": "markdown",
   "metadata": {},
   "source": [
    "# Compute the Budyko precipitation recycling ratio"
   ]
  },
  {
   "cell_type": "code",
   "execution_count": 1,
   "metadata": {},
   "outputs": [],
   "source": [
    "import os\n",
    "import glob\n",
    "import math\n",
    "import numpy as np\n",
    "import xarray as xr\n",
    "import pickle\n",
    "\n",
    "# Regridding\n",
    "# import xesmf as xe\n",
    "\n",
    "def find_dl(lat, lons):\n",
    "    \"\"\"\n",
    "    Find average length of 1 grid cell - convert lat to radians, take cos +\n",
    "    divide by Earth's circumference (m)\n",
    "    \"\"\"\n",
    "    earth_circ = (40075*10**3)  # Earth's circumference in m\n",
    "    lon_shape = len([lons])\n",
    "    lat_rad = np.radians(abs(lat))\n",
    "    dl = math.cos(lat_rad) * (earth_circ / lon_shape)  # length of pixel in m\n",
    "    return dl\n",
    "\n",
    "def lon180(ds):\n",
    "    ds.coords['lon'] = (ds.coords['lon'] + 180) % 360 - 180\n",
    "    ds = ds.sortby(ds.lon)\n",
    "    return ds\n",
    "\n",
    "def get_pixel_size(lat, lon):\n",
    "    if lat[0] > lat[-1]:\n",
    "        temp_lat = lat[::-1]\n",
    "    else:\n",
    "        temp_lat = lat\n",
    "    r = 6.371 * 1e6\n",
    "    rad = (2 * math.pi / 360)  # (m)\n",
    "    da = np.nan * np.zeros((len(temp_lat)))  # (m^2)\n",
    "\n",
    "    for i in range(len(temp_lat) - 1):\n",
    "        da[i] = (2 * math.pi * (1 / len(lon)) *\n",
    "                 r ** 2 * (math.sin(rad * temp_lat[i + 1]) -\n",
    "                           math.sin(rad * temp_lat[i])))\n",
    "\n",
    "    # Check if top and bottom latitude are same\n",
    "    if temp_lat[0] == -temp_lat[-1]:\n",
    "        da[-1] = da[0]\n",
    "    return da"
   ]
  },
  {
   "cell_type": "code",
   "execution_count": 2,
   "metadata": {},
   "outputs": [],
   "source": [
    "data_path = \"G:/My Drive/MPIM/data/\""
   ]
  },
  {
   "cell_type": "code",
   "execution_count": 3,
   "metadata": {},
   "outputs": [],
   "source": [
    "import pickle\n",
    "\n",
    "models = [ \"ACCESS-ESM1-5\", \"CanESM5\", \"IPSL-CM6A-LR\", \"MPI-ESM1-2-LR\", \"UKESM1-0-LL\", ]\n",
    "pr_rec = []\n",
    "for m,mm in enumerate(models): \n",
    "    with open(os.path.join(data_path+\"budyko_pr_\"+mm), \"rb\") as fp:   #Pickling\n",
    "        pr_rec.append(pickle.load(fp)) \n"
   ]
  },
  {
   "cell_type": "code",
   "execution_count": 30,
   "metadata": {},
   "outputs": [
    {
     "data": {
      "text/plain": [
       "-36.290465228439494"
      ]
     },
     "execution_count": 30,
     "metadata": {},
     "output_type": "execute_result"
    }
   ],
   "source": [
    "np.nanmin((pr_rec[4][\"Rr\"].sel(time = slice(\"2070-01\",\"2100-12\")).mean(dim = \"time\")).values)\n"
   ]
  }
 ],
 "metadata": {
  "kernelspec": {
   "display_name": "geo_clim",
   "language": "python",
   "name": "python3"
  },
  "language_info": {
   "codemirror_mode": {
    "name": "ipython",
    "version": 3
   },
   "file_extension": ".py",
   "mimetype": "text/x-python",
   "name": "python",
   "nbconvert_exporter": "python",
   "pygments_lexer": "ipython3",
   "version": "3.8.15"
  }
 },
 "nbformat": 4,
 "nbformat_minor": 2
}
